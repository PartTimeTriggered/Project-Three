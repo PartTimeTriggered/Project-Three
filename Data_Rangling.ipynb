{
 "cells": [
  {
   "cell_type": "code",
   "execution_count": null,
   "metadata": {},
   "outputs": [],
   "source": [
    "#Dependencies\n",
    "from sqlalchemy import create_engine\n",
    "from sqlalchemy import inspect\n",
    "import pandas as pd\n",
    "import psycopg2\n",
    "import datetime as dt\n",
    "import config"
   ]
  },
  {
   "cell_type": "code",
   "execution_count": 1,
   "metadata": {},
   "outputs": [
    {
     "ename": "NameError",
     "evalue": "name 'config' is not defined",
     "output_type": "error",
     "traceback": [
      "\u001b[1;31m---------------------------------------------------------------------------\u001b[0m",
      "\u001b[1;31mNameError\u001b[0m                                 Traceback (most recent call last)",
      "\u001b[1;32m~\\AppData\\Local\\Temp\\ipykernel_3536\\3502878139.py\u001b[0m in \u001b[0;36m<module>\u001b[1;34m\u001b[0m\n\u001b[0;32m      1\u001b[0m \u001b[1;31m# Check config file\u001b[0m\u001b[1;33m\u001b[0m\u001b[1;33m\u001b[0m\u001b[1;33m\u001b[0m\u001b[0m\n\u001b[1;32m----> 2\u001b[1;33m \u001b[0mconfig\u001b[0m\u001b[1;33m.\u001b[0m\u001b[0musername\u001b[0m\u001b[1;33m\u001b[0m\u001b[1;33m\u001b[0m\u001b[0m\n\u001b[0m",
      "\u001b[1;31mNameError\u001b[0m: name 'config' is not defined"
     ]
    }
   ],
   "source": [
    "# Check config file\n",
    "config.username "
   ]
  },
  {
   "cell_type": "code",
   "execution_count": null,
   "metadata": {},
   "outputs": [],
   "source": [
    "# Details for connection to local SQL database\n",
    "protocol = 'postgresql'\n",
    "username = config.username #'<username>'\n",
    "password = config.password #'<password>'\n",
    "host = 'localhost'\n",
    "port = 5432\n",
    "database_name = 'project3db'"
   ]
  },
  {
   "cell_type": "code",
   "execution_count": null,
   "metadata": {},
   "outputs": [],
   "source": [
    "# Build SQL con inital\n",
    "conn = psycopg2.connect(user=username, password=password, host=host, port=port)\n",
    "conn.autocommit = True"
   ]
  },
  {
   "cell_type": "code",
   "execution_count": null,
   "metadata": {},
   "outputs": [],
   "source": [
    "# store DB cursor \n",
    "cursor = conn.cursor()"
   ]
  },
  {
   "cell_type": "code",
   "execution_count": null,
   "metadata": {},
   "outputs": [],
   "source": [
    "# create table statement\n",
    "sql = \"create database \"+database_name+\";\""
   ]
  },
  {
   "cell_type": "code",
   "execution_count": null,
   "metadata": {},
   "outputs": [],
   "source": [
    "# create database \n",
    "cursor.execute(sql)\n",
    "print(\"Database created successfully........\")"
   ]
  },
  {
   "cell_type": "code",
   "execution_count": null,
   "metadata": {},
   "outputs": [],
   "source": [
    "# Build SQL con to database\n",
    "conn = psycopg2.connect(user=username, password=password, host=host, port=port, database=database_name)\n",
    "conn.autocommit = True"
   ]
  },
  {
   "cell_type": "code",
   "execution_count": null,
   "metadata": {},
   "outputs": [],
   "source": [
    "# reset cursor \n",
    "cursor = conn.cursor()"
   ]
  },
  {
   "cell_type": "code",
   "execution_count": null,
   "metadata": {},
   "outputs": [],
   "source": [
    "# Drop table if exists \n",
    "cursor.execute(\"DROP TABLE IF EXISTS flu_data\")\n",
    "\n",
    "# Creating table 1\n",
    "sqltable1 ='''CREATE TABLE flu_data (\n",
    "week TEXT,\n",
    "state TEXT PRIMARY KEY,\n",
    "age_group TEXT,\n",
    "sex TEXT,\n",
    "type_subtype TEXT,\n",
    "count INTEGER\n",
    ")'''\n",
    "cursor.execute(sqltable1)\n",
    "print(\"Table created successfully........\")\n",
    "conn.commit()"
   ]
  },
  {
   "cell_type": "code",
   "execution_count": null,
   "metadata": {},
   "outputs": [],
   "source": [
    "# Drop table if exists \n",
    "cursor.execute(\"DROP TABLE IF EXISTS covid_data\")\n",
    "\n",
    "# Creating table 2\n",
    "sqltable2 ='''CREATE TABLE covid_data (\n",
    "week TEXT,\n",
    "state TEXT PRIMARY KEY,\n",
    "confirmed INT,\n",
    "recovered INT,\n",
    "deaths INT,\n",
    "confirmed_cum INT,\n",
    "recovered_cum INT,\n",
    "deaths_cum INT\n",
    ")'''\n",
    "cursor.execute(sqltable2)\n",
    "print(\"Table created successfully........\")\n",
    "conn.commit()"
   ]
  },
  {
   "cell_type": "code",
   "execution_count": null,
   "metadata": {},
   "outputs": [],
   "source": [
    "# close connection\n",
    "conn.close()"
   ]
  },
  {
   "cell_type": "code",
   "execution_count": null,
   "metadata": {},
   "outputs": [],
   "source": [
    "# import dataset from URL\n",
    "url = 'https://raw.githubusercontent.com/M3IT/COVID-19_Data/master/Data/COVID_AU_state.csv'\n",
    "covid_states_df = pd.read_csv(url)\n",
    "covid_states_df.head(7)"
   ]
  },
  {
   "cell_type": "code",
   "execution_count": null,
   "metadata": {},
   "outputs": [],
   "source": [
    "# group by week ending Friday\n",
    "covid_states_df['date'] = pd.to_datetime(covid_states_df['date']) - pd.to_timedelta(7, unit='d')\n",
    "covid_states_df = covid_states_df.groupby(['state_abbrev', pd.Grouper(key='date', freq='W-FRI')]).sum().reset_index().sort_values('date')"
   ]
  },
  {
   "cell_type": "code",
   "execution_count": null,
   "metadata": {},
   "outputs": [],
   "source": [
    "# inspect data\n",
    "covid_states_df.head(5)"
   ]
  },
  {
   "cell_type": "code",
   "execution_count": null,
   "metadata": {},
   "outputs": [],
   "source": [
    "# drop unneeded columns\n",
    "covid_states_df.drop(['tests', 'confirmed_cum', 'deaths_cum', 'recovered_cum' , 'tests_cum', 'positives', 'positives_cum', 'hosp', 'hosp_cum', 'icu', 'icu_cum', 'vent', 'vent_cum', 'vaccines', 'vaccines_cum'],   axis=1, inplace=True)"
   ]
  },
  {
   "cell_type": "code",
   "execution_count": null,
   "metadata": {},
   "outputs": [],
   "source": [
    "# fill na columns \n",
    "covid_states_df = covid_states_df.fillna(0)"
   ]
  },
  {
   "cell_type": "code",
   "execution_count": null,
   "metadata": {},
   "outputs": [],
   "source": [
    "# cumalitive counts confirmed\n",
    "covid_states_df['confirmed_cum'] = covid_states_df.groupby('state_abbrev')['confirmed'].cumsum()"
   ]
  },
  {
   "cell_type": "code",
   "execution_count": null,
   "metadata": {},
   "outputs": [],
   "source": [
    "# cumalitive counts recovered\n",
    "covid_states_df['recovered_cum'] = covid_states_df.groupby('state_abbrev')['recovered'].cumsum()"
   ]
  },
  {
   "cell_type": "code",
   "execution_count": null,
   "metadata": {},
   "outputs": [],
   "source": [
    "# cumalitive counts deaths\n",
    "covid_states_df['deaths_cum'] = covid_states_df.groupby('state_abbrev')['deaths'].cumsum()"
   ]
  },
  {
   "cell_type": "code",
   "execution_count": null,
   "metadata": {},
   "outputs": [],
   "source": [
    "# rename column date to week\n",
    "covid_states_df.rename(columns={'date':'week'}, inplace=True)"
   ]
  },
  {
   "cell_type": "code",
   "execution_count": null,
   "metadata": {},
   "outputs": [],
   "source": [
    "# rename column state_abbrev to state\n",
    "covid_states_df.rename(columns={'state_abbrev':'state'}, inplace=True)"
   ]
  },
  {
   "cell_type": "code",
   "execution_count": null,
   "metadata": {},
   "outputs": [],
   "source": [
    "# reset index\n",
    "covid_states_df.reset_index(drop=True, inplace=True)"
   ]
  },
  {
   "cell_type": "code",
   "execution_count": null,
   "metadata": {},
   "outputs": [],
   "source": [
    "# rearrange columns\n",
    "covid_states_df = covid_states_df[['week', 'state', 'confirmed','recovered','deaths', 'confirmed_cum', 'recovered_cum', 'deaths_cum']]"
   ]
  },
  {
   "cell_type": "code",
   "execution_count": null,
   "metadata": {},
   "outputs": [],
   "source": [
    "covid_states_df['week'] = covid_states_df['week'].dt.strftime('%Y-%m-%d')"
   ]
  },
  {
   "cell_type": "code",
   "execution_count": null,
   "metadata": {},
   "outputs": [],
   "source": [
    "# covid_states_df.head()"
   ]
  },
  {
   "cell_type": "code",
   "execution_count": null,
   "metadata": {},
   "outputs": [],
   "source": [
    "# inspect data\n",
    "# covid_states_df.head()"
   ]
  },
  {
   "cell_type": "code",
   "execution_count": null,
   "metadata": {},
   "outputs": [],
   "source": [
    "# Read second worksheet\n",
    "flu_df2 = pd.read_excel('Data/national-notifiable-diseases-surveillance-system-nndss-public-dataset-influenza-laboratory-confirmed-dataset.xlsx', sheet_name=1, skiprows=[0, 1, 2, 3])\n",
    "flu_df2"
   ]
  },
  {
   "cell_type": "code",
   "execution_count": null,
   "metadata": {},
   "outputs": [],
   "source": [
    "# Read third worksheet\n",
    "flu_df3 = pd.read_excel('Data/national-notifiable-diseases-surveillance-system-nndss-public-dataset-influenza-laboratory-confirmed-dataset.xlsx', sheet_name=2, skiprows=[0, 1, 2, 3])\n",
    "flu_df3"
   ]
  },
  {
   "cell_type": "code",
   "execution_count": null,
   "metadata": {},
   "outputs": [],
   "source": [
    "# Concatenate the dataframes\n",
    "flu_df = pd.concat([flu_df2, flu_df3])\n",
    "flu_df.shape"
   ]
  },
  {
   "cell_type": "code",
   "execution_count": null,
   "metadata": {},
   "outputs": [],
   "source": [
    "flu_df.columns"
   ]
  },
  {
   "cell_type": "code",
   "execution_count": null,
   "metadata": {},
   "outputs": [],
   "source": [
    "# convert the week ending date to datetime\n",
    "flu_df['Week Ending (Friday)'] = pd.to_datetime(flu_df['Week Ending (Friday)']) - pd.to_timedelta(7, unit='d')\n",
    "flu_groupby = flu_df.groupby(['Week Ending (Friday)', 'State', 'Age  group', 'Sex', 'Type/Subtype'], as_index = False)['Indigenous status'].count()\n",
    "flu_groupby = flu_groupby.rename(columns={'Week Ending (Friday)': 'week', 'State': 'state', 'Age  group': 'age_group', 'Sex': 'sex', 'Type/Subtype': 'type_subtype', 'Indigenous status': 'Count'})\n",
    "flu_groupby.head(-50)"
   ]
  },
  {
   "cell_type": "code",
   "execution_count": null,
   "metadata": {},
   "outputs": [],
   "source": [
    "# set date ready for JSON format\n",
    "flu_groupby['week'] = flu_groupby['week'].dt.strftime('%Y-%m-%d')"
   ]
  },
  {
   "cell_type": "code",
   "execution_count": null,
   "metadata": {},
   "outputs": [],
   "source": [
    "# Connect to local SQL database\n",
    "rds_connection_string = f'{protocol}://{username}:{password}@{host}:{port}/{database_name}'\n",
    "# Create engine\n",
    "engine = create_engine(rds_connection_string)\n",
    "insp = inspect(engine)"
   ]
  },
  {
   "cell_type": "code",
   "execution_count": null,
   "metadata": {},
   "outputs": [],
   "source": [
    "# Check for tables\n",
    "insp.get_table_names()"
   ]
  },
  {
   "cell_type": "code",
   "execution_count": null,
   "metadata": {},
   "outputs": [],
   "source": [
    "# send data to sql table\n",
    "flu_groupby.to_sql(name='flu_data', con=engine, if_exists='replace', index=False)"
   ]
  },
  {
   "cell_type": "code",
   "execution_count": null,
   "metadata": {},
   "outputs": [],
   "source": [
    "# send data to sql table\n",
    "covid_states_df.to_sql(name='covid_data', con=engine, if_exists='replace', index=False)"
   ]
  },
  {
   "cell_type": "code",
   "execution_count": null,
   "metadata": {},
   "outputs": [],
   "source": [
    "# check data upload\n",
    "pd.read_sql_query('select * from covid_data', con=engine).head()"
   ]
  },
  {
   "cell_type": "code",
   "execution_count": null,
   "metadata": {},
   "outputs": [],
   "source": [
    "# check data upload\n",
    "pd.read_sql_query('select * from flu_data', con=engine).head()"
   ]
  }
 ],
 "metadata": {
  "kernelspec": {
   "display_name": "Python 3.7.13 ('PythonData')",
   "language": "python",
   "name": "python3"
  },
  "language_info": {
   "codemirror_mode": {
    "name": "ipython",
    "version": 3
   },
   "file_extension": ".py",
   "mimetype": "text/x-python",
   "name": "python",
   "nbconvert_exporter": "python",
   "pygments_lexer": "ipython3",
   "version": "3.7.13"
  },
  "orig_nbformat": 4,
  "vscode": {
   "interpreter": {
    "hash": "9da66beca27f19bdf81de16e0121a30aa04d4edd5eb88e9a5610932102b72b6f"
   }
  }
 },
 "nbformat": 4,
 "nbformat_minor": 2
}
